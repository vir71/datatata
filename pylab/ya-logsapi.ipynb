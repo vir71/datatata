{
 "cells": [
  {
   "cell_type": "code",
   "execution_count": 1,
   "metadata": {},
   "outputs": [],
   "source": [
    "from tapi_yandex_metrika import YandexMetrikaLogsapi\n",
    "\n",
    "ACCESS_TOKEN = \"\"\n",
    "COUNTER_ID = \"\"\n",
    "\n",
    "client = YandexMetrikaLogsapi(\n",
    "    access_token=ACCESS_TOKEN,\n",
    "    default_url_params={'counterId': COUNTER_ID},\n",
    "    # Download the report when it will be created\n",
    "    wait_report=True,\n",
    "    receive_all_data=True\n",
    "    )\n",
    "\n",
    "params={\n",
    "    \"fields\": \"ym:s:date,ym:s:clientID,ym:s:dateTime,ym:s:startURL,ym:s:endURL\",\n",
    "    \"source\": \"visits\",\n",
    "    \"date1\": \"2019-01-01\",\n",
    "    \"date2\": \"2019-01-01\"\n",
    "}\n",
    "\n",
    "info = client.create().post(params=params)\n",
    "request_id = info[\"log_request\"][\"request_id\"]\n",
    "\n",
    "report = client.download(requestId=request_id).get()\n",
    "\n",
    "print(\"Raw data\")\n",
    "data = report.data\n",
    "\n",
    "print(\"Column names\")\n",
    "print(report.columns)\n",
    "\n",
    "# Transform to values\n",
    "print(report().to_values())\n",
    "\n",
    "# Transform to lines\n",
    "print(report().to_lines())\n",
    "\n",
    "# Transform to dict\n",
    "print(report().to_dicts())"
   ]
  }
 ],
 "metadata": {
  "kernelspec": {
   "display_name": "Python 3",
   "language": "python",
   "name": "python3"
  },
  "language_info": {
   "codemirror_mode": {
    "name": "ipython",
    "version": 3
   },
   "file_extension": ".py",
   "mimetype": "text/x-python",
   "name": "python",
   "nbconvert_exporter": "python",
   "pygments_lexer": "ipython3",
   "version": "3.12.1"
  }
 },
 "nbformat": 4,
 "nbformat_minor": 2
}
